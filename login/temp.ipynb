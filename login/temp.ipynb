{
 "cells": [
  {
   "cell_type": "code",
   "execution_count": 5,
   "id": "dee35990",
   "metadata": {},
   "outputs": [
    {
     "data": {
      "text/plain": [
       "'Industrial_Motor_Temperature_Data.csv'"
      ]
     },
     "execution_count": 5,
     "metadata": {},
     "output_type": "execute_result"
    }
   ],
   "source": [
    "import pandas as pd\n",
    "import numpy as np\n",
    "from datetime import datetime, timedelta\n",
    "import random\n",
    "\n",
    "# Generate realistic motor temperature dataset (100 entries)\n",
    "start_time = datetime(2025, 4, 6, 10, 0, 0)\n",
    "timestamps = [start_time + timedelta(seconds=10 * i) for i in range(1000)]\n",
    "\n",
    "temperatures = []\n",
    "loads = []\n",
    "rpms = []\n",
    "statuses = []\n",
    "\n",
    "for _ in range(1000):\n",
    "    zone = random.choices(['Healthy', 'Caution', 'Failure Likely'], weights=[0.5, 0.3, 0.2])[0]\n",
    "    \n",
    "    if zone == 'Healthy':\n",
    "        temp = round(random.uniform(30, 59), 1)\n",
    "    elif zone == 'Caution':\n",
    "        temp = round(random.uniform(60, 79), 1)\n",
    "    else:\n",
    "        temp = round(random.uniform(80, 90), 1)\n",
    "    \n",
    "    load = random.randint(60, 95)  # Motor load in percentage\n",
    "    rpm = random.randint(1450, 1500)  # Typical industrial motor speed\n",
    "    \n",
    "    temperatures.append(temp)\n",
    "    loads.append(load)\n",
    "    rpms.append(rpm)\n",
    "    statuses.append(zone)\n",
    "\n",
    "# Create DataFrame\n",
    "df = pd.DataFrame({\n",
    "    \"Temperature (°C)\": temperatures,\n",
    "    \"Status\": statuses\n",
    "})\n",
    "\n",
    "# Save to CSV\n",
    "csv_path = \"Industrial_Motor_Temperature_Data.csv\"\n",
    "df.to_csv(csv_path, index=False)\n",
    "\n",
    "csv_path\n"
   ]
  },
  {
   "cell_type": "code",
   "execution_count": 6,
   "id": "765ad43e",
   "metadata": {},
   "outputs": [
    {
     "name": "stdout",
     "output_type": "stream",
     "text": [
      "   Temperature (°C)   Status\n",
      "0              55.8  Healthy\n",
      "1              38.1  Healthy\n",
      "2              56.3  Healthy\n",
      "3              69.1  Caution\n",
      "4              65.9  Caution\n"
     ]
    }
   ],
   "source": [
    "import pandas as pd\n",
    "\n",
    "# Load your CSV\n",
    "df = pd.read_csv('Industrial_Motor_Temperature_Data.csv')\n",
    "print(df.head())\n"
   ]
  },
  {
   "cell_type": "code",
   "execution_count": 8,
   "id": "42be02c0",
   "metadata": {},
   "outputs": [],
   "source": [
    "from sklearn.preprocessing import LabelEncoder\n",
    "from sklearn.model_selection import train_test_split\n",
    "\n",
    "# Encode the status column\n",
    "le = LabelEncoder()\n",
    "df['Status_encoded'] = le.fit_transform(df['Status'])  # Healthy=0, Caution=1, Failure Likely=2\n",
    "\n",
    "# Features and labels\n",
    "X = df[['Temperature (°C)']]\n",
    "y = df['Status_encoded']\n",
    "\n",
    "# Split into train and test\n",
    "X_train, X_test, y_train, y_test = train_test_split(X, y, test_size=0.2, random_state=42)\n"
   ]
  },
  {
   "cell_type": "code",
   "execution_count": 9,
   "id": "5c3fc322",
   "metadata": {},
   "outputs": [],
   "source": [
    "from sklearn.ensemble import RandomForestClassifier\n",
    "from sklearn.metrics import accuracy_score, classification_report\n",
    "\n",
    "# Initialize and train\n",
    "model = RandomForestClassifier(n_estimators=100, random_state=42)\n",
    "model.fit(X_train, y_train)\n",
    "\n",
    "# Predict on test set\n",
    "y_pred = model.predict(X_test)\n"
   ]
  },
  {
   "cell_type": "code",
   "execution_count": 10,
   "id": "723ee25f",
   "metadata": {},
   "outputs": [
    {
     "name": "stdout",
     "output_type": "stream",
     "text": [
      "Accuracy: 1.0\n",
      "Classification Report:\n",
      "                precision    recall  f1-score   support\n",
      "\n",
      "       Caution       1.00      1.00      1.00        63\n",
      "Failure Likely       1.00      1.00      1.00        45\n",
      "       Healthy       1.00      1.00      1.00        92\n",
      "\n",
      "      accuracy                           1.00       200\n",
      "     macro avg       1.00      1.00      1.00       200\n",
      "  weighted avg       1.00      1.00      1.00       200\n",
      "\n"
     ]
    }
   ],
   "source": [
    "print(\"Accuracy:\", accuracy_score(y_test, y_pred))\n",
    "print(\"Classification Report:\")\n",
    "print(classification_report(y_test, y_pred, target_names=le.classes_))\n"
   ]
  },
  {
   "cell_type": "code",
   "execution_count": 14,
   "id": "f16519e4",
   "metadata": {},
   "outputs": [
    {
     "name": "stdout",
     "output_type": "stream",
     "text": [
      "Predicted Status: Caution\n"
     ]
    }
   ],
   "source": [
    "# Example prediction\n",
    "import numpy as np\n",
    "new_temp = pd.DataFrame([[78.5]], columns=['Temperature (°C)'])\n",
    "pred = model.predict(new_temp)\n",
    "status = le.inverse_transform(pred)\n",
    "print(\"Predicted Status:\", status[0])\n"
   ]
  },
  {
   "cell_type": "code",
   "execution_count": null,
   "id": "2473c26a",
   "metadata": {},
   "outputs": [],
   "source": [
    "import joblib\n",
    "joblib.dump(model, 'temperature_model.pkl')\n",
    "joblib.dump(le, 'label_encoder.pkl')\n"
   ]
  }
 ],
 "metadata": {
  "kernelspec": {
   "display_name": "Python 3",
   "language": "python",
   "name": "python3"
  },
  "language_info": {
   "codemirror_mode": {
    "name": "ipython",
    "version": 3
   },
   "file_extension": ".py",
   "mimetype": "text/x-python",
   "name": "python",
   "nbconvert_exporter": "python",
   "pygments_lexer": "ipython3",
   "version": "3.12.9"
  }
 },
 "nbformat": 4,
 "nbformat_minor": 5
}
